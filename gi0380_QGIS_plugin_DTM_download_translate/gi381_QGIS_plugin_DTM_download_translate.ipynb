{
 "cells": [
  {
   "cell_type": "markdown",
   "id": "e4d31127-919b-4a29-8149-88d0190306c9",
   "metadata": {},
   "source": [
    "# QGIS Plugin: NRW DTM Download and Translate\n",
    "\n",
    "The HSRW student Khayman Fernandes-Carneiro from the Environment & Energy Program (B.Sc.) developed a QGIS plugin to simplify download and translation of the HRW DTM tiles.\n",
    "\n",
    "Look at his repo: https://github.com/khaymanr/qgis_tile_downloader\n"
   ]
  },
  {
   "cell_type": "code",
   "execution_count": null,
   "id": "5d1fe23f-99db-4e8f-a41d-a5e257b65a7c",
   "metadata": {},
   "outputs": [],
   "source": []
  }
 ],
 "metadata": {
  "kernelspec": {
   "display_name": "Python 3 (ipykernel)",
   "language": "python",
   "name": "python3"
  },
  "language_info": {
   "codemirror_mode": {
    "name": "ipython",
    "version": 3
   },
   "file_extension": ".py",
   "mimetype": "text/x-python",
   "name": "python",
   "nbconvert_exporter": "python",
   "pygments_lexer": "ipython3",
   "version": "3.9.7"
  }
 },
 "nbformat": 4,
 "nbformat_minor": 5
}
