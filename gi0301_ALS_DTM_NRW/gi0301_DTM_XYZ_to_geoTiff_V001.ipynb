{
 "cells": [
  {
   "cell_type": "markdown",
   "metadata": {},
   "source": [
    "# Geoprocessing in Python #\n",
    "\n",
    "The Federal State of Nordrhein-Westfalen (NRW, North Rhine-Westphalia) provides Digital Terrain Models (DTM) gained from Airborne Laser Scanning (ALS). One of the derived remote sensing products is an interpolated DTM on a regular grid with 1m² horizontal (x-y-plane) grid size (1m x 1m). \n",
    "\n",
    "The DTM data is dissected in regular square tiles with 2000 x 2000 grid cells each corresponding to 2000 m x 2000 m metric area. These tiles are organized according to the municipalities in NRW. All tiles touching a municipality are pooled in archive and compressed (zipped).\n",
    "\n",
    "But the chosen file format to store the tiles is strange. The original file format of each tile is a formatted text file with three columns for the x-y-z coordinates denoted as XYZ file format. Each row in the text file represents one grid point in space. Each cell is represented by its full x-y-coordinates in the chosen coordinate reference system (EPSG:4647) together with the interesting information: the elevation z. \n",
    "\n",
    "Since each tile is a square grid with 2000 x 2000 cells it is regular and it would be enough e.g. to store the lower left corner coordinates together with the organisation of the grid cells (e.g. 2000 rows, 2000 columns, rows stored firstly) and then the pure z-coordinates sequentially. The x-y-coordinates of each grid cell could be determined by counting the z-values in the file: z-value at position 0 is at lower left corner, z-value at position 3'999'999 is at upper right corner, z-value at 1999 is at lower right corner (depending on whether data is stored row-wise or column-wise). \n",
    "\n",
    "Sometimes the upper right corner is the reference point. It just has to be described how data is organized.\n",
    "\n",
    "geoTiff is a file format suited for handling regular geo-referenced grids.\n",
    "\n",
    "The following activity deals with the transfromation from xyz-format to geoTiff.\n",
    "\n",
    "But first the the bounding boxes of the available DTM tiles have to be determined to see which area they cover and whether they lie in the actual region of interest. \n",
    "\n",
    "\n"
   ]
  },
  {
   "cell_type": "markdown",
   "metadata": {},
   "source": [
    "### Prerequisites\n",
    "\n",
    "* Install the Anaconda3 Python distribution.\n",
    "* Open the Anaconda Prompt (bash-like terminal) and install the package gdal: `conda install gdal`"
   ]
  },
  {
   "cell_type": "code",
   "execution_count": null,
   "metadata": {},
   "outputs": [],
   "source": [
    "import os, sys\n",
    "from osgeo import osr, ogr, gdal"
   ]
  },
  {
   "cell_type": "code",
   "execution_count": null,
   "metadata": {},
   "outputs": [],
   "source": [
    "#help(osr)\n",
    "#help(ogr)\n",
    "#help(gdal)"
   ]
  },
  {
   "cell_type": "markdown",
   "metadata": {},
   "source": [
    "### Relative Path to Directory with the DTM XYZ-Files"
   ]
  },
  {
   "cell_type": "code",
   "execution_count": null,
   "metadata": {},
   "outputs": [],
   "source": [
    "# get the current working directory\n",
    "os.getcwd()"
   ]
  },
  {
   "cell_type": "code",
   "execution_count": null,
   "metadata": {},
   "outputs": [],
   "source": [
    "#where the xyz files are\n",
    "dtm_xyz_dir = \"../data/DTM_Xanten/dgm1_05170052_Xanten_EPSG4647_XYZ/\"\n",
    "dest_dir = \"../data/derived/DTM_Xanten/\"\n",
    "dest_shapefile_name = \"dgm1_Xanten_BB_coverage.shp\" # shape file with bounding boxes, DGM: Digitales Geländemodell (de) <-> Digital Terrain Model (en)\n",
    "\n",
    "dest_geotiff_dir = \"../data/derived/DTM_Xanten/geoTiff/\" ## directory of geoTiff files \n",
    "\n",
    "os.makedirs(dest_dir, exist_ok = True)\n",
    "os.makedirs(dest_geotiff_dir, exist_ok = True)"
   ]
  },
  {
   "cell_type": "code",
   "execution_count": null,
   "metadata": {},
   "outputs": [],
   "source": [
    "os.listdir(dtm_xyz_dir)"
   ]
  },
  {
   "cell_type": "markdown",
   "metadata": {},
   "source": [
    "### Create a list with all xyz-file names"
   ]
  },
  {
   "cell_type": "code",
   "execution_count": null,
   "metadata": {},
   "outputs": [],
   "source": [
    "fnamelist = []\n",
    "for fname in os.listdir(dtm_xyz_dir):\n",
    "    if fname.endswith(\".xyz\"):\n",
    "        fnamelist.append(fname)\n",
    "\n",
    "fnamelist"
   ]
  },
  {
   "cell_type": "markdown",
   "metadata": {},
   "source": [
    "### Define a function which evaluates first and last row to get the bounding box"
   ]
  },
  {
   "cell_type": "code",
   "execution_count": null,
   "metadata": {},
   "outputs": [],
   "source": [
    "def getBB (fname, pixelsize):\n",
    "    with open(fname, 'rb') as fh:\n",
    "        first = next(fh)\n",
    "        offs = -100\n",
    "        while True:\n",
    "            fh.seek(offs, 2)\n",
    "            lines = fh.readlines()\n",
    "            if len(lines)>1:\n",
    "                last = lines[-1]\n",
    "                break\n",
    "            offs *= 2\n",
    "        print(\"first: \", first)\n",
    "        print (\"last: \", last)\n",
    "\n",
    "        [left, bottom, z_ws] = list(map(float, first.split()))\n",
    "        [right, top, z_en] = list(map(float, last.split()))\n",
    "        left, right, bottom, top = left - pixelsize/2., right + pixelsize/2., bottom - pixelsize/2., top + pixelsize/2.\n",
    "\n",
    "        return [left, right, bottom, top] "
   ]
  },
  {
   "cell_type": "markdown",
   "metadata": {},
   "source": [
    "### Create a shape file the rectangular bounding boxes of the xyz files\n",
    "\n",
    "The basis of the following feature generation is the OGC Simple Feature Model.\n",
    "\n",
    "<img src=\"https://docs.qgis.org/2.14/en/_images/ogc_sfs.png\">"
   ]
  },
  {
   "cell_type": "code",
   "execution_count": null,
   "metadata": {},
   "outputs": [],
   "source": [
    "# get the driver\n",
    "driver = ogr.GetDriverByName('ESRI Shapefile')\n",
    "# create a new data source and layer\n",
    "\n",
    "#pathname = myDestDataDir + r'/dgm1_Xanten_BB_coverage.shp'\n",
    "\n",
    "pathfilename = dest_dir + dest_shapefile_name\n",
    "\n",
    "print(\"Output File: \", pathfilename)\n",
    "\n",
    "if os.path.exists(pathfilename):\n",
    "    driver.DeleteDataSource(pathfilename)\n",
    "\n",
    "ds = driver.CreateDataSource(pathfilename)\n",
    "\n",
    "if ds is None:\n",
    "    print('Could not create file')\n",
    "    sys.exit(1)\n",
    "\n",
    "\n",
    "#~ src_srs = txt2srs('EPSG:4647')\n",
    "#src_srs= txt2srs('+proj=tmerc +lat_0=0 +lon_0=9 +k=0.9996 +x_0=32500000 +y_0=0 +ellps=GRS80 +towgs84=0,0,0,0,0,0,0 +units=m +no_defs')    \n",
    "\n",
    "epsg = 4647\n",
    "srs1 = osr.SpatialReference()\n",
    "srs1.ImportFromEPSG(epsg)\n",
    "\n",
    "#layer_name = 'test'\n",
    "#layer_name = layer_name.encode('utf-8')\n",
    "#layer = ds.CreateLayer(layer_name, srs, ogr.wkbPolygon)\n",
    "\n",
    "layer = ds.CreateLayer('test', geom_type=ogr.wkbPolygon, srs=srs1)\n",
    "#layer = ds.CreateLayer('test', geom_type=ogr.wkbPolygon)\n",
    "\n",
    "fieldDefnID = ogr.FieldDefn('id', ogr.OFTInteger)\n",
    "fieldDefnFName = ogr.FieldDefn('fname', ogr.OFTString)\n",
    "\n",
    "res = layer.CreateField(fieldDefnID)\n",
    "res =layer.CreateField(fieldDefnFName)\n",
    "\n",
    "\n",
    "# get the FeatureDefn for the output layer\n",
    "featureDefn = layer.GetLayerDefn()\n",
    "\n",
    "# ID\n",
    "i=0\n",
    "\n",
    "pixelsize = 1\n",
    "\n",
    "for fname in fnamelist:\n",
    "    [x0, x1, y0, y1] = getBB(dtm_xyz_dir+fname, pixelsize)\n",
    "    #print(x0, x1, y0, y1)\n",
    "    ring = ogr.Geometry(ogr.wkbLinearRing)\n",
    "    ring.AddPoint(x0,y0)\n",
    "    ring.AddPoint(x1,y0)\n",
    "    ring.AddPoint(x1,y1)\n",
    "    ring.AddPoint(x0,y1)\n",
    "    ring.AddPoint(x0,y0)\n",
    "    #ring.CloseRings() # or ring.AddPoint(0,0)\n",
    "    \n",
    "    polygon = ogr.Geometry(ogr.wkbPolygon)\n",
    "    polygon.AddGeometry(ring)\n",
    "    \n",
    "    feature = ogr.Feature(featureDefn)\n",
    "    feature.SetGeometry(polygon)\n",
    "\n",
    "    i+=1\n",
    "    feature.SetField('id', i)\n",
    "    feature.SetField('fname', fname)\n",
    "    # add the feature to the output layer\n",
    "    layer.CreateFeature(feature)\n",
    "    \n",
    "    #ring.Destroy()\n",
    "    #polygon.Destroy()\n",
    "    #feature.Destroy()\n",
    "\n",
    "ds.Destroy()\n"
   ]
  },
  {
   "cell_type": "markdown",
   "metadata": {},
   "source": [
    "### Add the four filenames touching the GPS path in Hees and on Fürstenberg to the list."
   ]
  },
  {
   "cell_type": "code",
   "execution_count": null,
   "metadata": {},
   "outputs": [],
   "source": [
    "# The files the GPS track is intersecting with\n",
    "hees_dtm_list=[\"dgm1_...xyz\",\"dgm1_....xyz\",\"dgm1_....xyz\",\"dgm1_....xyz\"]"
   ]
  },
  {
   "cell_type": "markdown",
   "metadata": {},
   "source": [
    "The following example is derived from here:  \n",
    "https://gis.stackexchange.com/questions/58517/python-gdal-save-array-as-raster-with-projection-from-other-fil  \n",
    "and here:\n",
    "https://gis.stackexchange.com/questions/177061/ascii-file-with-latitude-longitude-and-data-to-geotiff-using-python\n"
   ]
  },
  {
   "cell_type": "code",
   "execution_count": null,
   "metadata": {},
   "outputs": [],
   "source": [
    "def CreateGeoTiff(Name, Array, driver, \n",
    "                  xnum, ynum, GeoT):\n",
    "    DataType = gdal.GDT_Float32\n",
    "    NewFileName = Name+'.tif'\n",
    "    \n",
    "    srs = osr.SpatialReference()\n",
    "    srs.ImportFromEPSG(4647)\n",
    "    # Set up the dataset\n",
    "    DataSet = driver.Create( NewFileName, xnum, ynum, 1, DataType )\n",
    "            # the '1' is for band 1.\n",
    "    DataSet.SetGeoTransform(GeoT)\n",
    "    DataSet.SetProjection(srs.ExportToWkt())\n",
    "\n",
    "    # Write the array\n",
    "    DataSet.GetRasterBand(1).WriteArray( Array )\n",
    "    return NewFileName"
   ]
  },
  {
   "cell_type": "code",
   "execution_count": null,
   "metadata": {},
   "outputs": [],
   "source": [
    "\n",
    "for source in hees_dtm_list:\n",
    "    base=os.path.basename(source)\n",
    "    name = os.path.splitext(base)[0]\n",
    "    print(name)"
   ]
  },
  {
   "cell_type": "code",
   "execution_count": null,
   "metadata": {},
   "outputs": [],
   "source": [
    "hees_dtm_list"
   ]
  },
  {
   "cell_type": "code",
   "execution_count": null,
   "metadata": {},
   "outputs": [],
   "source": [
    "import pandas as pd\n",
    "from os.path import basename\n",
    "\n",
    "xnum, ynum = 2000, 2000\n",
    "xsize, ysize = 1,1\n",
    "driver = gdal.GetDriverByName('GTiff')\n",
    "\n",
    "\n",
    "for source in hees_dtm_list:\n",
    "    print(\"read \" + source)\n",
    "    df=pd.read_csv(dtm_xyz_dir + source,header=None,delim_whitespace=True,names=[\"x\",\"y\",\"z\"])\n",
    "    xmin, xmax = min(df.x), max(df.x)\n",
    "    ymin, ymax = min(df.y), max(df.y)\n",
    "    zmin, zmax = min(df.z), max(df.z)\n",
    "    GeoTNew=[xmin, xsize, 0, ymax, 0, -ysize] # WHY IS IT LIKE THIS ?????? WHAT DOES IT DO ?????\n",
    "    \n",
    "    z=(df.z).values.reshape(ynum,xnum)\n",
    "    z=np.rot90(z) # If we do not rotate the 2000x2000 pixel array the final result is rotated!\n",
    "\n",
    "    base=os.path.basename(source)\n",
    "    name = os.path.splitext(base)[0]\n",
    "    \n",
    "    print(\"write \" + name + \".tif\")    \n",
    "    NewFileName = CreateGeoTiff(dest_geotiff_dir + name, z, driver, xnum, ynum, GeoTNew)\n",
    "    "
   ]
  },
  {
   "cell_type": "code",
   "execution_count": null,
   "metadata": {},
   "outputs": [],
   "source": []
  }
 ],
 "metadata": {
  "kernelspec": {
   "display_name": "Python 3 (ipykernel)",
   "language": "python",
   "name": "python3"
  },
  "language_info": {
   "codemirror_mode": {
    "name": "ipython",
    "version": 3
   },
   "file_extension": ".py",
   "mimetype": "text/x-python",
   "name": "python",
   "nbconvert_exporter": "python",
   "pygments_lexer": "ipython3",
   "version": "3.9.7"
  }
 },
 "nbformat": 4,
 "nbformat_minor": 4
}
