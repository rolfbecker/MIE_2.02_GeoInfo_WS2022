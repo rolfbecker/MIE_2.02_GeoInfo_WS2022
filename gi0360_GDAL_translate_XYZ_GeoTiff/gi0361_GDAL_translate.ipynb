{
 "cells": [
  {
   "cell_type": "markdown",
   "id": "9705f1be",
   "metadata": {
    "tags": []
   },
   "source": [
    "# GDAL Translate XZY -> GeoTiff\n",
    "\n",
    "GDAL Python bindings: https://gdal.org/api/python.html\n",
    "\n",
    "Stackexchange: https://gis.stackexchange.com/questions/42584/how-to-call-gdal-translate-from-python-code\n",
    "\n",
    "GDAL translation options: https://gdal.org/python/osgeo.gdal-module.html#TranslateOptions\n",
    "\n",
    "GDAL command line program: `gdal_translate -a_srs EPSG:25832 test.xyz test.tif` <br>\n",
    "See https://gis.stackexchange.com/questions/227246/convert-huge-xyz-csv-to-geotiff\n",
    "\n"
   ]
  },
  {
   "cell_type": "code",
   "execution_count": null,
   "id": "06accaee",
   "metadata": {},
   "outputs": [],
   "source": [
    "!python --version"
   ]
  },
  {
   "cell_type": "code",
   "execution_count": null,
   "id": "57427c39",
   "metadata": {},
   "outputs": [],
   "source": [
    "!conda env list"
   ]
  },
  {
   "cell_type": "code",
   "execution_count": null,
   "id": "94059235",
   "metadata": {},
   "outputs": [],
   "source": [
    "# The final directories. Will be used later.\n",
    "input_dir = r\"../data/original/NRW_DTM_Hees_EPSG_25832_XYZ/\"\n",
    "output_dir = r\"../data/derived/NRW_DTM_Hees_EPSG_25832_GeoTiff/\""
   ]
  },
  {
   "cell_type": "markdown",
   "id": "e5427c93",
   "metadata": {},
   "source": [
    "## Task: Anaylse the data structure. ##\n",
    "\n",
    "**Download** a single gzipped XYZ file manually for testing into the correct notebook folderfor testing: <br>\n",
    "https://www.opengeodata.nrw.de/produkte/geobasis/hm/dgm1_xyz/dgm1_xyz/dgm1_32_322_5728_1_nw.xyz.gz\n",
    "\n",
    "**Unzip** the file externally. Open it in an editor. \n",
    "\n",
    "**Q:** What is in the columns of the XYZ file? <br>\n",
    "**Q:** Which unit does each column have? <br>\n",
    "**Q:** Which coordinate reference system (CRS) is used? <br>\n",
    "**Q:** What does \"projected CRS\" mean? <br>\n",
    "**Q:** What is the distance / size of the grid (raster) cells? How do you know? <br>\n",
    "**Q:** How many rows and columns does the grid have? <br>\n",
    "**Q:** What are the coordinates (x,y) of all for corner points? <br>\n",
    "**Q:** How is the location of the DTM tile encoded in the file name?\n"
   ]
  },
  {
   "cell_type": "markdown",
   "id": "e4820611",
   "metadata": {},
   "source": [
    "## Use `gdal.Translate` to convert the file format.\n",
    "\n",
    "**Update:** `gdal.Translate` can be applied to `xyz.gz`directly!\n",
    "\n",
    "This takes time. **Patience**"
   ]
  },
  {
   "cell_type": "code",
   "execution_count": null,
   "id": "798ad2bd",
   "metadata": {
    "tags": []
   },
   "outputs": [],
   "source": [
    "%%time\n",
    "from osgeo import gdal\n",
    "basename = \"dgm1_32_322_5728_1_nw\"\n",
    "infile = basename + r\".xyz.gz\"\n",
    "print(\"In:  \", infile)\n",
    "outfile = basename + r\".tif\"\n",
    "ds = gdal.Open(infile)\n",
    "ds = gdal.Translate(outfile, ds, outputSRS=\"EPSG:25832\")\n",
    "ds = None\n",
    "print(\"Out: \", outfile)"
   ]
  },
  {
   "cell_type": "markdown",
   "id": "a3776d6b",
   "metadata": {},
   "source": [
    "## Play with the pathlib library, on object oriented interface to the file system."
   ]
  },
  {
   "cell_type": "code",
   "execution_count": null,
   "id": "44dac564",
   "metadata": {},
   "outputs": [],
   "source": [
    "import pathlib"
   ]
  },
  {
   "cell_type": "code",
   "execution_count": null,
   "id": "a6765514",
   "metadata": {},
   "outputs": [],
   "source": [
    "pathlib.Path(output_dir).mkdir(parents=True, exist_ok=True)"
   ]
  },
  {
   "cell_type": "code",
   "execution_count": null,
   "id": "5216a115",
   "metadata": {},
   "outputs": [],
   "source": [
    "files = pathlib.Path(input_dir).glob('dgm1_32_*_*_nw.xyz.gz')\n",
    "for file in files:\n",
    "    basename = file.stem\n",
    "    print(basename)"
   ]
  },
  {
   "cell_type": "markdown",
   "id": "fea38e93",
   "metadata": {},
   "source": [
    "## Exercise: Convert all 16 tiles belonging to Hees and Fürstenberg from XYZ format to GeoTiff.\n",
    "\n",
    "Use the directories defined above as input and output directories. In case you do not have the XYZ data, yet, download the files first.\n",
    "\n",
    "\n",
    "<img src=\"images/Xanten_Hees_Fuerstenberg.png\" style=\"width:800px\"> \n"
   ]
  },
  {
   "cell_type": "code",
   "execution_count": null,
   "id": "50d9e4a2",
   "metadata": {},
   "outputs": [],
   "source": []
  },
  {
   "cell_type": "markdown",
   "id": "976f45c5",
   "metadata": {},
   "source": [
    "## Some other sources, maybe useful to develop an in-memory solution\n",
    "\n",
    "https://stackoverflow.com/questions/15352668/download-and-decompress-gzipped-file-in-memory\n",
    "\n",
    "https://gis.stackexchange.com/questions/42584/how-to-call-gdal-translate-from-python-code\n",
    "\n",
    "https://stackoverflow.com/questions/38353139/how-to-open-a-remote-file-with-gdal-in-python-through-a-flask-application\n",
    "\n",
    "https://gist.github.com/jleinonen/5781308\n"
   ]
  },
  {
   "cell_type": "code",
   "execution_count": null,
   "id": "df2ed071",
   "metadata": {},
   "outputs": [],
   "source": []
  }
 ],
 "metadata": {
  "kernelspec": {
   "display_name": "Python 3 (ipykernel)",
   "language": "python",
   "name": "python3"
  },
  "language_info": {
   "codemirror_mode": {
    "name": "ipython",
    "version": 3
   },
   "file_extension": ".py",
   "mimetype": "text/x-python",
   "name": "python",
   "nbconvert_exporter": "python",
   "pygments_lexer": "ipython3",
   "version": "3.9.7"
  }
 },
 "nbformat": 4,
 "nbformat_minor": 5
}
