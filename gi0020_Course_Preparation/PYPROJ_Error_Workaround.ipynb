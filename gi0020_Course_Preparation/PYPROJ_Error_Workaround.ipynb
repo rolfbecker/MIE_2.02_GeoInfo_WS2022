{
 "cells": [
  {
   "cell_type": "code",
   "execution_count": null,
   "id": "51959c9b-dc39-4aea-8d53-d20484922e34",
   "metadata": {},
   "outputs": [],
   "source": [
    "from osgeo import osr, ogr, gdal"
   ]
  },
  {
   "cell_type": "code",
   "execution_count": null,
   "id": "cceb2452-be59-4385-8d89-384dbbd3a721",
   "metadata": {},
   "outputs": [],
   "source": [
    "import os, sys\n",
    "import numpy as np"
   ]
  },
  {
   "cell_type": "code",
   "execution_count": null,
   "id": "7b305f02-efec-450b-9a02-108a78bc8df6",
   "metadata": {},
   "outputs": [],
   "source": [
    "import pandas as pd"
   ]
  },
  {
   "cell_type": "code",
   "execution_count": null,
   "id": "cd0418c9-7809-42a1-948b-e5d4013b16db",
   "metadata": {},
   "outputs": [],
   "source": [
    "import geopandas as gpd"
   ]
  },
  {
   "cell_type": "code",
   "execution_count": 1,
   "id": "a7a74beb-4a66-45ee-8682-fb01e4cd5fcb",
   "metadata": {},
   "outputs": [
    {
     "name": "stderr",
     "output_type": "stream",
     "text": [
      "C:\\Users\\rb\\Anaconda3\\envs\\geo\\lib\\site-packages\\pyproj\\__init__.py:89: UserWarning: pyproj unable to set database path.\n",
      "  _pyproj_global_context_initialize()\n"
     ]
    }
   ],
   "source": [
    "import pyproj"
   ]
  },
  {
   "cell_type": "code",
   "execution_count": 2,
   "id": "9813436b-e228-4f82-8ec0-722aa6badeb2",
   "metadata": {},
   "outputs": [],
   "source": [
    "# C:\\Users\\rb\\Anaconda3\\envs\\geo\\Library\\share\\proj"
   ]
  },
  {
   "cell_type": "code",
   "execution_count": 4,
   "id": "480ff717-39fb-49d4-88a2-e10a8966161c",
   "metadata": {},
   "outputs": [
    {
     "name": "stdout",
     "output_type": "stream",
     "text": [
      "PROJ_LIB:  C:\\OSGeo4W64\\share\\proj\n",
      "GDAL_DATA:  C:\\Users\\rb\\Anaconda3\\envs\\geo\\Library\\share\\gdal\n"
     ]
    }
   ],
   "source": [
    "import os\n",
    "print(\"PROJ_LIB: \", os.environ['PROJ_LIB'])\n",
    "print(\"GDAL_DATA: \", os.environ['GDAL_DATA'])"
   ]
  },
  {
   "cell_type": "code",
   "execution_count": 5,
   "id": "44591505-c63c-42c9-b583-099e436d97f5",
   "metadata": {},
   "outputs": [],
   "source": [
    "os.environ['PROJ_LIB'] = r\"C:\\Users\\rb\\Anaconda3\\envs\\geo\\Library\\share\\proj\""
   ]
  },
  {
   "cell_type": "code",
   "execution_count": 6,
   "id": "16bc616e-80e4-467a-8d68-faf1b038df22",
   "metadata": {},
   "outputs": [
    {
     "name": "stdout",
     "output_type": "stream",
     "text": [
      "PROJ_LIB:  C:\\Users\\rb\\Anaconda3\\envs\\geo\\Library\\share\\proj\n",
      "GDAL_DATA:  C:\\Users\\rb\\Anaconda3\\envs\\geo\\Library\\share\\gdal\n"
     ]
    }
   ],
   "source": [
    "print(\"PROJ_LIB: \", os.environ['PROJ_LIB'])\n",
    "print(\"GDAL_DATA: \", os.environ['GDAL_DATA'])"
   ]
  },
  {
   "cell_type": "code",
   "execution_count": null,
   "id": "8144fa1e-9abf-464c-9549-7eea28a911eb",
   "metadata": {},
   "outputs": [],
   "source": []
  }
 ],
 "metadata": {
  "kernelspec": {
   "display_name": "Python 3 (ipykernel)",
   "language": "python",
   "name": "python3"
  },
  "language_info": {
   "codemirror_mode": {
    "name": "ipython",
    "version": 3
   },
   "file_extension": ".py",
   "mimetype": "text/x-python",
   "name": "python",
   "nbconvert_exporter": "python",
   "pygments_lexer": "ipython3",
   "version": "3.10.6"
  }
 },
 "nbformat": 4,
 "nbformat_minor": 5
}
