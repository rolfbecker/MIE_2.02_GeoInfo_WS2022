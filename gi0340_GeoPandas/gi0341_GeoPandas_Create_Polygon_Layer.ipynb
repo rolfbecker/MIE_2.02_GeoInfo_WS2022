{
 "cells": [
  {
   "cell_type": "markdown",
   "id": "367f8479-141f-49e6-8e7d-dc3bf65c3027",
   "metadata": {},
   "source": [
    "# GeoPandas: Create Polygon Layer\n",
    "\n",
    "\n",
    "GeoPandas:\n",
    "* https://geopandas.org/docs.html\n",
    "* https://geopandas.org/getting_started/introduction.html\n",
    "\n",
    "Shapely:\n",
    "* https://shapely.readthedocs.io/en/stable/manual.html\n",
    "\n"
   ]
  },
  {
   "cell_type": "markdown",
   "id": "8a0ccd5c-ee2f-414f-9d8d-34c225e672ca",
   "metadata": {},
   "source": [
    "## Task 1: Determine bounding box (BB) of Xanten.\n",
    "\n",
    "Open QGIS and open the layer `dvg1gem_nw.shp`. Use `EPSG:25832`. Determine the bounding box of the municipality Xanten. Google how to do it.\n",
    "\n",
    "What are the coordinates of the lower left (LL) and upper right (UR) corner, respectively?\n",
    "\n"
   ]
  },
  {
   "cell_type": "markdown",
   "id": "67690dcf-5a2c-4e9c-8f06-9332b3d11073",
   "metadata": {},
   "source": [
    "## Task 2: Create a rectangle (polygon) encompassing the BB.\n",
    "\n",
    "The package shapely provides geometric object types such as Point, LineString, and Polygon. Look at the original shapely manual.\n",
    "\n",
    "Create a Polygon which is the minumum polygon enccompassing the BB with corner coordinates being multiples of 1000."
   ]
  },
  {
   "cell_type": "code",
   "execution_count": null,
   "id": "e48ffcd2-7460-4f40-b499-7721f1850e69",
   "metadata": {},
   "outputs": [],
   "source": [
    "import geopandas as gpd"
   ]
  },
  {
   "cell_type": "code",
   "execution_count": null,
   "id": "42f5d4d4-195d-4d61-be97-8780a659273a",
   "metadata": {},
   "outputs": [],
   "source": [
    "from shapely.geometry import Polygon"
   ]
  },
  {
   "cell_type": "code",
   "execution_count": null,
   "id": "7091dcf6-8353-4c98-a472-4ad9645f2635",
   "metadata": {},
   "outputs": [],
   "source": [
    "# polygon=Polygon([...])"
   ]
  },
  {
   "cell_type": "code",
   "execution_count": null,
   "id": "2abf3f98-7f22-4482-b959-d8ef9ded323e",
   "metadata": {},
   "outputs": [],
   "source": []
  },
  {
   "cell_type": "markdown",
   "id": "0cdb5484-0160-4b62-ac7c-7eab35191947",
   "metadata": {},
   "source": [
    "## Task 3: Create a GeoPandas Dataframe (gdf) with the correct CRS.\n",
    "\n",
    "Create a gdf with the polygon as the geometry column and a string column in the format \"E:{easting},N:{northing}\" where you replae the place holders easting and northing with the actual coordinates of the LL corner.  "
   ]
  },
  {
   "cell_type": "code",
   "execution_count": null,
   "id": "77b5bee4-29c9-4ccd-a1da-61ab38a02bd7",
   "metadata": {},
   "outputs": [],
   "source": []
  },
  {
   "cell_type": "markdown",
   "id": "dc4b33d3-d4eb-48e1-a8e1-d7a38396741c",
   "metadata": {},
   "source": [
    "## Task 4: Save the layer\n",
    "\n",
    "Save the layer in different file formats, e.g. shape file, GeoJSON, geopackage, etc.\n",
    "\n",
    "Load the layer into QGIS and compare the results. Check the attribute table of your layer."
   ]
  },
  {
   "cell_type": "code",
   "execution_count": null,
   "id": "a3a1054b-e475-483f-91f9-72e7436c9eab",
   "metadata": {},
   "outputs": [],
   "source": []
  }
 ],
 "metadata": {
  "kernelspec": {
   "display_name": "Python 3 (ipykernel)",
   "language": "python",
   "name": "python3"
  },
  "language_info": {
   "codemirror_mode": {
    "name": "ipython",
    "version": 3
   },
   "file_extension": ".py",
   "mimetype": "text/x-python",
   "name": "python",
   "nbconvert_exporter": "python",
   "pygments_lexer": "ipython3",
   "version": "3.9.7"
  }
 },
 "nbformat": 4,
 "nbformat_minor": 5
}
