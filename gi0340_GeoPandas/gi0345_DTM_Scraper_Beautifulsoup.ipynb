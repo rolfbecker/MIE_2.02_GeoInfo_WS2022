{
 "cells": [
  {
   "cell_type": "markdown",
   "metadata": {},
   "source": [
    "# Extract DTM file names from HTML table and create polygon vector layer with the tiles' BBs\n",
    "\n",
    "The German Federal State of North Rhine-Westphalia (NRW or NW) provides wonderful and huge open data on its **[NRW Open Geodata Portal](https://www.opengeodata.nrw.de/produkte/)**.\n",
    "\n",
    "One of the fantastic data sets is the [**Digital Terrain Model (DTM) tiles of NRW in 1m horizontal resolution**](https://www.opengeodata.nrw.de/produkte/geobasis/hm/dgm1_xyz/dgm1_xyz/). This link provides a table with the filenames and download links of 35860 DTM tiles covering NRW of 1 km² size.\n",
    "\n",
    "To see on a map where these tiles a squared polygon is created for each tile with shows location and extent of the tiles. The coordinates of the corner of the squares are derived from the filename which contains the lower left corner and the tile size (here: 1000 x 1000 grid points with 1m spacing, yielding 1000 m x 1000 m total tile size).  \n",
    "\n",
    "Web scraping ([Wikipedia](https://en.wikipedia.org/wiki/Web_scraping)) with [`BeautifulSoup`](https://www.crummy.com/software/BeautifulSoup/bs4/doc/) is used to extract the DTM filenames from the HTML table listing all the files [here](https://www.opengeodata.nrw.de/produkte/geobasis/hm/dgm1_xyz/dgm1_xyz/)."
   ]
  },
  {
   "cell_type": "code",
   "execution_count": null,
   "metadata": {},
   "outputs": [],
   "source": [
    "dtm_url = r\"https://www.opengeodata.nrw.de/produkte/geobasis/hm/dgm1_xyz/dgm1_xyz/\""
   ]
  },
  {
   "cell_type": "code",
   "execution_count": null,
   "metadata": {},
   "outputs": [],
   "source": [
    "data_dir = r\"../data/derived/NRW_DTM_NRW_EPSG_25832_Tiles_BB/\"\n",
    "out_fname = r\"NRW_DTM_NRW_EPSG_25832_Tiles_BB.gpkg\""
   ]
  },
  {
   "cell_type": "code",
   "execution_count": null,
   "metadata": {
    "tags": []
   },
   "outputs": [],
   "source": [
    "import requests\n",
    "from bs4 import BeautifulSoup\n",
    "from shapely.geometry import Polygon\n",
    "import geopandas as gpd\n",
    "import os"
   ]
  },
  {
   "cell_type": "code",
   "execution_count": null,
   "metadata": {},
   "outputs": [],
   "source": [
    "os.makedirs(data_dir,exist_ok = True)"
   ]
  },
  {
   "cell_type": "markdown",
   "metadata": {},
   "source": [
    "## Exercise\n",
    "\n",
    "Complete the function below!"
   ]
  },
  {
   "cell_type": "code",
   "execution_count": null,
   "metadata": {},
   "outputs": [],
   "source": [
    "def points_from_fname(fname, Dx=1000, Dy=1000):\n",
    "    \"\"\"\n",
    "    Usage: [(x_LL,y_LL),(x_UL,y_UL),(x_UR,y_UR),(x_LR,y_LR)]  = points_from_fname(...)\n",
    "       \n",
    "    Returns a list of four 2-tuples representing the corner points of a square. \n",
    "    Create corner points of the squared bounding box for a NRW DTM tile in ESPG:25832.\n",
    "    URL of NRW DTM tile collection: https://www.opengeodata.nrw.de/produkte/geobasis/hm/dgm1_xyz/dgm1_xyz/\n",
    "    The coordinates of the lower left corner are extracted from the filename which is \n",
    "    formatted like 'dgm1_32_280_5652_1_nw.xyz.gz'. Filename elements:\n",
    "    dgm1: name of product with 1x1 m² grid cell size, 32: UTM Zone 32, EPSG:25832, \n",
    "    280: Easting in km, 5652: Northing in km, 1: 1m x 1m grid cell size, nw: North Rhine-Wastphalia,\n",
    "    xyz: ASCII fixed width file format with three columns (easting, northing, elevation), gz: GNU zipped\n",
    "    \"\"\"\n",
    "    \n",
    "    x_Left  = [...] # Extract it from fname. Use units m, not km.\n",
    "    y_Low   = [...] # Extract it from fname. Use units m, not km.\n",
    "    x_Right = [...] # Add the cell size ...\n",
    "    y_Up    = [...] # Add the cell size ...\n",
    "\n",
    "    P_LL = (x_Left,y_Low) # e.g. (280000,5652000)\n",
    "    P_UL = (...)\n",
    "    P_UR = (...)\n",
    "    P_LR = (...)\n",
    "    \n",
    "    return [P_LL, P_UL, P_UR, P_LR] "
   ]
  },
  {
   "cell_type": "code",
   "execution_count": null,
   "metadata": {},
   "outputs": [],
   "source": [
    "help(points_from_fname)"
   ]
  },
  {
   "cell_type": "markdown",
   "metadata": {},
   "source": [
    "## Exercise:\n",
    "\n",
    "Read the docs. Google.\n",
    "\n",
    "1. How does `BeautifulSoup` work? What is a tag? Which attributes does the tag `file` have?\n",
    "1. How does `requests` work?\n",
    "1. How do you create a GeoPandas dataframe from a dictionary? How does this dictionary have to look like?"
   ]
  },
  {
   "cell_type": "code",
   "execution_count": null,
   "metadata": {},
   "outputs": [],
   "source": [
    "r = requests.get(dtm_url)\n",
    "soup = BeautifulSoup(r.content, 'html.parser')"
   ]
  },
  {
   "cell_type": "code",
   "execution_count": null,
   "metadata": {},
   "outputs": [],
   "source": [
    "tag_list = soup.find_all('file')\n",
    "fname_list = [tag[\"name\"] for tag in tag_list]\n",
    "geom_list = [Polygon(points_from_fname(fname)) for fname in fname_list]"
   ]
  },
  {
   "cell_type": "code",
   "execution_count": null,
   "metadata": {},
   "outputs": [],
   "source": [
    "# fname: polygon attribute, geometry: polygon geometry \n",
    "dic = {'fname': fname_list, 'geometry': geom_list}\n",
    "gdf = gpd.GeoDataFrame(data = dic, crs=\"EPSG:25832\")"
   ]
  },
  {
   "cell_type": "code",
   "execution_count": null,
   "metadata": {},
   "outputs": [],
   "source": [
    "print(f\"gdf.shape: {gdf.shape}\")\n",
    "gdf.head()"
   ]
  },
  {
   "cell_type": "code",
   "execution_count": null,
   "metadata": {},
   "outputs": [],
   "source": [
    "print(f\"Write gdf to file {data_dir + out_fname:s}\")\n",
    "gdf.to_file(data_dir + out_fname, driver = \"GPKG\") "
   ]
  },
  {
   "cell_type": "code",
   "execution_count": null,
   "metadata": {},
   "outputs": [],
   "source": []
  }
 ],
 "metadata": {
  "kernelspec": {
   "display_name": "Python 3",
   "language": "python",
   "name": "python3"
  },
  "language_info": {
   "codemirror_mode": {
    "name": "ipython",
    "version": 3
   },
   "file_extension": ".py",
   "mimetype": "text/x-python",
   "name": "python",
   "nbconvert_exporter": "python",
   "pygments_lexer": "ipython3",
   "version": "3.8.5"
  }
 },
 "nbformat": 4,
 "nbformat_minor": 5
}
