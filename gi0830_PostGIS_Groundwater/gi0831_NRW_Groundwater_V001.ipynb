{
 "cells": [
  {
   "cell_type": "markdown",
   "id": "56d4202d-7c4a-44cc-8fb3-3d76006c10ae",
   "metadata": {},
   "source": [
    "# NRW Groundwater Data - OpenHygrisC\n",
    "\n",
    "OpenHygrisC Data: https://www.opengeodata.nrw.de/produkte/umwelt_klima/wasser/grundwasser/hygrisc/\n",
    "\n",
    "Download gw station data: https://www.opengeodata.nrw.de/produkte/umwelt_klima/wasser/grundwasser/hygrisc/OpenHygrisC_gw-messstellen-messwerte_EPSG25832_CSV.zip\n"
   ]
  },
  {
   "cell_type": "code",
   "execution_count": null,
   "id": "99b6fd75-8a2c-46f9-a4f4-0ce4fe5682c7",
   "metadata": {},
   "outputs": [],
   "source": []
  },
  {
   "cell_type": "code",
   "execution_count": null,
   "id": "44243725-9973-4afc-af2a-a9725e054615",
   "metadata": {},
   "outputs": [],
   "source": []
  }
 ],
 "metadata": {
  "kernelspec": {
   "display_name": "Python 3 (ipykernel)",
   "language": "python",
   "name": "python3"
  },
  "language_info": {
   "codemirror_mode": {
    "name": "ipython",
    "version": 3
   },
   "file_extension": ".py",
   "mimetype": "text/x-python",
   "name": "python",
   "nbconvert_exporter": "python",
   "pygments_lexer": "ipython3",
   "version": "3.9.7"
  }
 },
 "nbformat": 4,
 "nbformat_minor": 5
}
