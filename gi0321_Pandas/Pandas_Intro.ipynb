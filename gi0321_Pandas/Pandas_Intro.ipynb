{
 "cells": [
  {
   "cell_type": "markdown",
   "metadata": {},
   "source": [
    "# Pandas Tutorial (Draft)\n",
    "\n",
    "Pandas introduces dataframes dor Python. Dataframes are like spreadsheets. Data is organized in columns and rows. Column IDs are the column headers or column names, row IDs are either the position of the row (numerical row index) or a column defined to be the index.\n",
    "\n",
    "Pandas is often used to store time series, e.g. yearly average temperature at different measurement stations. In this case it is very convenient to make a column with time information (timestamp, date, year, etc.) the row index.\n",
    "\n",
    "A column can be retrieved by its columns name, e.g. `ser = temperature[\"Duisburg\"]`. In this case the type of the result variable `ser` would be _series_. A series contains the data plus the index column, e.g. the time. The series is self-contained, the user does not have to think about the associated time sequeunce, it is integral part of the series. \n",
    "\n",
    "## Some Tutorials\n",
    " \n",
    "1. [Intro to Data Structures](https://pandas.pydata.org/pandas-docs/stable/user_guide/dsintro.html)\n",
    "1. [10 Minutes to Pandas](https://pandas.pydata.org/pandas-docs/stable/user_guide/10min.html)\n",
    "1. [NumPy Quickstart](https://numpy.org/devdocs/user/quickstart.html)\n",
    "\n",
    "\n",
    "* https://pandas.pydata.org/pandas-docs/stable/user_guide/timeseries.html\n",
    "* https://pandas.pydata.org/pandas-docs/stable/getting_started/tutorials.html\n",
    "* https://bitbucket.org/hrojas/learn-pandas/src/master/\n",
    "* https://www.learndatasci.com/tutorials/python-pandas-tutorial-complete-introduction-for-beginners/\n",
    "* https://www.datacamp.com/community/tutorials/pandas-tutorial-dataframe-python\n",
    "* https://www.kaggle.com/learn/pandas\n"
   ]
  },
  {
   "cell_type": "markdown",
   "metadata": {},
   "source": [
    "## Create a Pandas Time Series"
   ]
  },
  {
   "cell_type": "code",
   "execution_count": 1,
   "metadata": {},
   "outputs": [],
   "source": [
    "import pandas as pd\n",
    "import numpy as np"
   ]
  },
  {
   "cell_type": "code",
   "execution_count": 2,
   "metadata": {},
   "outputs": [
    {
     "name": "stdout",
     "output_type": "stream",
     "text": [
      "{'a': 2, 'b': 6, 'c': 7}\n"
     ]
    }
   ],
   "source": [
    "# You can create a series from a dict\n",
    "d = {\"a\": 2, \"b\": 6, \"c\": 7}\n",
    "print(d)"
   ]
  },
  {
   "cell_type": "code",
   "execution_count": 3,
   "metadata": {},
   "outputs": [
    {
     "data": {
      "text/plain": [
       "a    2\n",
       "b    6\n",
       "c    7\n",
       "dtype: int64"
      ]
     },
     "execution_count": 3,
     "metadata": {},
     "output_type": "execute_result"
    }
   ],
   "source": [
    "ser = pd.Series(d)\n",
    "ser"
   ]
  },
  {
   "cell_type": "code",
   "execution_count": 4,
   "metadata": {},
   "outputs": [],
   "source": [
    "dates = pd.date_range('20200701', periods=6)"
   ]
  },
  {
   "cell_type": "code",
   "execution_count": 5,
   "metadata": {},
   "outputs": [
    {
     "data": {
      "text/plain": [
       "DatetimeIndex(['2020-07-01', '2020-07-02', '2020-07-03', '2020-07-04',\n",
       "               '2020-07-05', '2020-07-06'],\n",
       "              dtype='datetime64[ns]', freq='D')"
      ]
     },
     "execution_count": 5,
     "metadata": {},
     "output_type": "execute_result"
    }
   ],
   "source": [
    "dates"
   ]
  },
  {
   "cell_type": "code",
   "execution_count": 6,
   "metadata": {},
   "outputs": [
    {
     "name": "stdout",
     "output_type": "stream",
     "text": [
      "<class 'numpy.ndarray'>\n",
      "[20.1 21.2 23.4 24.1 25.  24.5]\n"
     ]
    }
   ],
   "source": [
    "# Temperature values\n",
    "temp1 = np.array([20.1, 21.2, 23.4, 24.1, 25., 24.5])\n",
    "\n",
    "print(type(temp1))\n",
    "print(temp1)"
   ]
  },
  {
   "cell_type": "code",
   "execution_count": 7,
   "metadata": {},
   "outputs": [
    {
     "name": "stdout",
     "output_type": "stream",
     "text": [
      "[10.1 11.2 13.4 14.1 15.  14.5]\n"
     ]
    }
   ],
   "source": [
    "# Calculation and broadcasting\n",
    "print(temp1-10)"
   ]
  },
  {
   "cell_type": "code",
   "execution_count": 8,
   "metadata": {},
   "outputs": [
    {
     "name": "stdout",
     "output_type": "stream",
     "text": [
      "<class 'pandas.core.series.Series'>\n",
      "2020-07-01    20.1\n",
      "2020-07-02    21.2\n",
      "2020-07-03    23.4\n",
      "2020-07-04    24.1\n",
      "2020-07-05    25.0\n",
      "2020-07-06    24.5\n",
      "Freq: D, dtype: float64\n"
     ]
    }
   ],
   "source": [
    "s1 = pd.Series(temp1, index=dates)\n",
    "print(type(s1))\n",
    "print(s1)"
   ]
  },
  {
   "cell_type": "code",
   "execution_count": 9,
   "metadata": {},
   "outputs": [
    {
     "data": {
      "text/plain": [
       "2020-07-01    20.1\n",
       "2020-07-02    21.2\n",
       "2020-07-03    23.4\n",
       "2020-07-04    24.1\n",
       "2020-07-05    25.0\n",
       "Freq: D, dtype: float64"
      ]
     },
     "execution_count": 9,
     "metadata": {},
     "output_type": "execute_result"
    }
   ],
   "source": [
    "s1.head()"
   ]
  },
  {
   "cell_type": "code",
   "execution_count": 10,
   "metadata": {},
   "outputs": [
    {
     "data": {
      "text/plain": [
       "23.4"
      ]
     },
     "execution_count": 10,
     "metadata": {},
     "output_type": "execute_result"
    }
   ],
   "source": [
    "# Series behave like dicts\n",
    "s1[\"2020-07-03\"]"
   ]
  },
  {
   "cell_type": "code",
   "execution_count": 11,
   "metadata": {},
   "outputs": [
    {
     "name": "stdout",
     "output_type": "stream",
     "text": [
      "2020-07-01    35.1\n",
      "2020-07-02    36.2\n",
      "2020-07-03    38.4\n",
      "2020-07-04    39.1\n",
      "2020-07-05    40.0\n",
      "2020-07-06    39.5\n",
      "Freq: D, dtype: float64\n"
     ]
    }
   ],
   "source": [
    "# Series behave like ndarrays\n",
    "print(s1+15)"
   ]
  },
  {
   "cell_type": "code",
   "execution_count": 12,
   "metadata": {},
   "outputs": [
    {
     "name": "stdout",
     "output_type": "stream",
     "text": [
      "2020-07-02    21.2\n",
      "2020-07-03    23.4\n",
      "2020-07-04    24.1\n",
      "2020-07-05    25.0\n",
      "2020-07-06    24.5\n",
      "Freq: D, dtype: float64\n",
      "2020-07-01    20.1\n",
      "2020-07-02    21.2\n",
      "2020-07-03    23.4\n",
      "2020-07-04    24.1\n",
      "2020-07-05    25.0\n",
      "Freq: D, dtype: float64\n"
     ]
    }
   ],
   "source": [
    "# Series are index aligned with operations\n",
    "print(s1[1:])\n",
    "print(s1[:-1])"
   ]
  },
  {
   "cell_type": "code",
   "execution_count": 13,
   "metadata": {},
   "outputs": [
    {
     "name": "stdout",
     "output_type": "stream",
     "text": [
      "2020-07-01    NaN\n",
      "2020-07-02    0.0\n",
      "2020-07-03    0.0\n",
      "2020-07-04    0.0\n",
      "2020-07-05    0.0\n",
      "2020-07-06    NaN\n",
      "Freq: D, dtype: float64\n"
     ]
    }
   ],
   "source": [
    "print(s1[1:] - s1[:-1])"
   ]
  },
  {
   "cell_type": "code",
   "execution_count": 14,
   "metadata": {},
   "outputs": [
    {
     "name": "stdout",
     "output_type": "stream",
     "text": [
      "Series s1 after modification of s2:\n",
      "2020-07-01    20.1\n",
      "2020-07-02    21.2\n",
      "2020-07-03    50.0\n",
      "2020-07-04    24.1\n",
      "2020-07-05    25.0\n",
      "2020-07-06    24.5\n",
      "Freq: D, dtype: float64\n"
     ]
    }
   ],
   "source": [
    "# Attention! with s2=s1 s2 is just a reverence to s1! If you change s2 you change s1.\n",
    "\n",
    "s2 = s1 # A REFERENCE\n",
    "# s1 = s1 + 0 # NOT A REFERENCE\n",
    "\n",
    "s2[\"2020-07-03\"] = 50\n",
    "print(\"Series s1 after modification of s2:\")\n",
    "print(s1)"
   ]
  },
  {
   "cell_type": "code",
   "execution_count": 15,
   "metadata": {},
   "outputs": [
    {
     "data": {
      "text/plain": [
       "2020-07-01    20.1\n",
       "2020-07-02    21.2\n",
       "2020-07-03    23.4\n",
       "2020-07-04    24.1\n",
       "2020-07-05    25.0\n",
       "2020-07-06    24.5\n",
       "Freq: D, dtype: float64"
      ]
     },
     "execution_count": 15,
     "metadata": {},
     "output_type": "execute_result"
    }
   ],
   "source": [
    "s1[\"2020-07-03\"] = 23.4\n",
    "s1"
   ]
  },
  {
   "cell_type": "code",
   "execution_count": 16,
   "metadata": {},
   "outputs": [
    {
     "name": "stdout",
     "output_type": "stream",
     "text": [
      "s1:\n",
      "2020-07-01    20.1\n",
      "2020-07-02    21.2\n",
      "2020-07-03    23.4\n",
      "2020-07-04    24.1\n",
      "2020-07-05    25.0\n",
      "2020-07-06    24.5\n",
      "Freq: D, dtype: float64\n",
      "s2:\n",
      "2020-07-01    20.1\n",
      "2020-07-02    21.2\n",
      "2020-07-03    50.0\n",
      "2020-07-04    24.1\n",
      "2020-07-05    25.0\n",
      "2020-07-06    24.5\n",
      "Freq: D, dtype: float64\n"
     ]
    }
   ],
   "source": [
    "# Deep copy\n",
    "s2 = s1.copy()\n",
    "s2[\"2020-07-03\"] = 50\n",
    "print(\"s1:\")\n",
    "print(s1)\n",
    "print(\"s2:\")\n",
    "print(s2)"
   ]
  },
  {
   "cell_type": "code",
   "execution_count": 17,
   "metadata": {},
   "outputs": [],
   "source": [
    "dates2 = dates + pd.Timedelta('1 day')"
   ]
  },
  {
   "cell_type": "code",
   "execution_count": 18,
   "metadata": {},
   "outputs": [
    {
     "name": "stdout",
     "output_type": "stream",
     "text": [
      "2020-07-02    20.1\n",
      "2020-07-03    21.2\n",
      "2020-07-04    50.0\n",
      "2020-07-05    24.1\n",
      "2020-07-06    25.0\n",
      "2020-07-07    24.5\n",
      "Freq: D, dtype: float64\n"
     ]
    }
   ],
   "source": [
    "s2.index = dates2\n",
    "print(s2)"
   ]
  },
  {
   "cell_type": "code",
   "execution_count": 19,
   "metadata": {},
   "outputs": [
    {
     "name": "stdout",
     "output_type": "stream",
     "text": [
      "2020-07-01     NaN\n",
      "2020-07-02    -1.1\n",
      "2020-07-03    -2.2\n",
      "2020-07-04    25.9\n",
      "2020-07-05    -0.9\n",
      "2020-07-06     0.5\n",
      "2020-07-07     NaN\n",
      "Freq: D, dtype: float64\n"
     ]
    }
   ],
   "source": [
    "print(s2-s1)"
   ]
  },
  {
   "cell_type": "code",
   "execution_count": 20,
   "metadata": {},
   "outputs": [
    {
     "name": "stdout",
     "output_type": "stream",
     "text": [
      "2020-07-03    21.850047\n",
      "2020-07-04    20.654171\n",
      "2020-07-05    22.717380\n",
      "2020-07-06    23.573947\n",
      "2020-07-07    25.497480\n",
      "2020-07-08    23.666144\n",
      "Freq: D, dtype: float64\n"
     ]
    }
   ],
   "source": [
    "s3 = s1 + np.random.randn(6)\n",
    "dates3 = dates + pd.Timedelta('2 day')\n",
    "s3.index = dates3\n",
    "print(s3)"
   ]
  },
  {
   "cell_type": "code",
   "execution_count": 21,
   "metadata": {},
   "outputs": [
    {
     "data": {
      "text/plain": [
       "2020-07-01         NaN\n",
       "2020-07-02         NaN\n",
       "2020-07-03    1.549953\n",
       "2020-07-04    3.445829\n",
       "2020-07-05    2.282620\n",
       "2020-07-06    0.926053\n",
       "2020-07-07         NaN\n",
       "2020-07-08         NaN\n",
       "Freq: D, dtype: float64"
      ]
     },
     "execution_count": 21,
     "metadata": {},
     "output_type": "execute_result"
    }
   ],
   "source": [
    "s1 - s3"
   ]
  },
  {
   "cell_type": "code",
   "execution_count": 22,
   "metadata": {},
   "outputs": [
    {
     "data": {
      "text/plain": [
       "2020-07-01    20.1\n",
       "2020-07-02    21.2\n",
       "2020-07-03    23.4\n",
       "2020-07-04    24.1\n",
       "2020-07-05    25.0\n",
       "2020-07-06    24.5\n",
       "Freq: D, Name: 001, dtype: float64"
      ]
     },
     "execution_count": 22,
     "metadata": {},
     "output_type": "execute_result"
    }
   ],
   "source": [
    "s1.rename(\"001\")"
   ]
  },
  {
   "cell_type": "code",
   "execution_count": 23,
   "metadata": {},
   "outputs": [
    {
     "data": {
      "text/plain": [
       "2020-07-01    20.1\n",
       "2020-07-02    21.2\n",
       "2020-07-03    23.4\n",
       "2020-07-04    24.1\n",
       "2020-07-05    25.0\n",
       "2020-07-06    24.5\n",
       "Freq: D, dtype: float64"
      ]
     },
     "execution_count": 23,
     "metadata": {},
     "output_type": "execute_result"
    }
   ],
   "source": [
    "s1"
   ]
  },
  {
   "cell_type": "code",
   "execution_count": 24,
   "metadata": {},
   "outputs": [
    {
     "name": "stdout",
     "output_type": "stream",
     "text": [
      "Help on method rename in module pandas.core.series:\n",
      "\n",
      "rename(index=None, *, axis=None, copy=True, inplace=False, level=None, errors='ignore') method of pandas.core.series.Series instance\n",
      "    Alter Series index labels or name.\n",
      "    \n",
      "    Function / dict values must be unique (1-to-1). Labels not contained in\n",
      "    a dict / Series will be left as-is. Extra labels listed don't throw an\n",
      "    error.\n",
      "    \n",
      "    Alternatively, change ``Series.name`` with a scalar value.\n",
      "    \n",
      "    See the :ref:`user guide <basics.rename>` for more.\n",
      "    \n",
      "    Parameters\n",
      "    ----------\n",
      "    axis : {0 or \"index\"}\n",
      "        Unused. Accepted for compatability with DataFrame method only.\n",
      "    index : scalar, hashable sequence, dict-like or function, optional\n",
      "        Functions or dict-like are transformations to apply to\n",
      "        the index.\n",
      "        Scalar or hashable sequence-like will alter the ``Series.name``\n",
      "        attribute.\n",
      "    \n",
      "    **kwargs\n",
      "        Additional keyword arguments passed to the function. Only the\n",
      "        \"inplace\" keyword is used.\n",
      "    \n",
      "    Returns\n",
      "    -------\n",
      "    Series\n",
      "        Series with index labels or name altered.\n",
      "    \n",
      "    See Also\n",
      "    --------\n",
      "    DataFrame.rename : Corresponding DataFrame method.\n",
      "    Series.rename_axis : Set the name of the axis.\n",
      "    \n",
      "    Examples\n",
      "    --------\n",
      "    >>> s = pd.Series([1, 2, 3])\n",
      "    >>> s\n",
      "    0    1\n",
      "    1    2\n",
      "    2    3\n",
      "    dtype: int64\n",
      "    >>> s.rename(\"my_name\")  # scalar, changes Series.name\n",
      "    0    1\n",
      "    1    2\n",
      "    2    3\n",
      "    Name: my_name, dtype: int64\n",
      "    >>> s.rename(lambda x: x ** 2)  # function, changes labels\n",
      "    0    1\n",
      "    1    2\n",
      "    4    3\n",
      "    dtype: int64\n",
      "    >>> s.rename({1: 3, 2: 5})  # mapping, changes labels\n",
      "    0    1\n",
      "    3    2\n",
      "    5    3\n",
      "    dtype: int64\n",
      "\n"
     ]
    }
   ],
   "source": [
    "help(s1.rename)"
   ]
  },
  {
   "cell_type": "code",
   "execution_count": 25,
   "metadata": {},
   "outputs": [
    {
     "data": {
      "text/plain": [
       "2020-07-03    21.850047\n",
       "2020-07-04    20.654171\n",
       "2020-07-05    22.717380\n",
       "2020-07-06    23.573947\n",
       "2020-07-07    25.497480\n",
       "2020-07-08    23.666144\n",
       "Freq: D, Name: S003, dtype: float64"
      ]
     },
     "execution_count": 25,
     "metadata": {},
     "output_type": "execute_result"
    }
   ],
   "source": [
    "s1.rename(\"S001\", inplace = True)\n",
    "s2.rename(\"S002\", inplace = True)\n",
    "s3.rename(\"S003\", inplace = True)"
   ]
  },
  {
   "cell_type": "markdown",
   "metadata": {},
   "source": [
    "## Create Data Frame from Series\n",
    "\n",
    "https://stackoverflow.com/questions/13653030/how-do-i-pass-a-list-of-series-to-a-pandas-dataframe"
   ]
  },
  {
   "cell_type": "markdown",
   "metadata": {},
   "source": [
    "It is easy to convert a series into a dataframe. The column names are taken from the series names by default."
   ]
  },
  {
   "cell_type": "code",
   "execution_count": 26,
   "metadata": {},
   "outputs": [
    {
     "data": {
      "text/html": [
       "<div>\n",
       "<style scoped>\n",
       "    .dataframe tbody tr th:only-of-type {\n",
       "        vertical-align: middle;\n",
       "    }\n",
       "\n",
       "    .dataframe tbody tr th {\n",
       "        vertical-align: top;\n",
       "    }\n",
       "\n",
       "    .dataframe thead th {\n",
       "        text-align: right;\n",
       "    }\n",
       "</style>\n",
       "<table border=\"1\" class=\"dataframe\">\n",
       "  <thead>\n",
       "    <tr style=\"text-align: right;\">\n",
       "      <th></th>\n",
       "      <th>S001</th>\n",
       "    </tr>\n",
       "  </thead>\n",
       "  <tbody>\n",
       "    <tr>\n",
       "      <th>2020-07-01</th>\n",
       "      <td>20.1</td>\n",
       "    </tr>\n",
       "    <tr>\n",
       "      <th>2020-07-02</th>\n",
       "      <td>21.2</td>\n",
       "    </tr>\n",
       "    <tr>\n",
       "      <th>2020-07-03</th>\n",
       "      <td>23.4</td>\n",
       "    </tr>\n",
       "    <tr>\n",
       "      <th>2020-07-04</th>\n",
       "      <td>24.1</td>\n",
       "    </tr>\n",
       "    <tr>\n",
       "      <th>2020-07-05</th>\n",
       "      <td>25.0</td>\n",
       "    </tr>\n",
       "    <tr>\n",
       "      <th>2020-07-06</th>\n",
       "      <td>24.5</td>\n",
       "    </tr>\n",
       "  </tbody>\n",
       "</table>\n",
       "</div>"
      ],
      "text/plain": [
       "            S001\n",
       "2020-07-01  20.1\n",
       "2020-07-02  21.2\n",
       "2020-07-03  23.4\n",
       "2020-07-04  24.1\n",
       "2020-07-05  25.0\n",
       "2020-07-06  24.5"
      ]
     },
     "execution_count": 26,
     "metadata": {},
     "output_type": "execute_result"
    }
   ],
   "source": [
    "df1 = pd.DataFrame(s1)\n",
    "df1"
   ]
  },
  {
   "cell_type": "code",
   "execution_count": 27,
   "metadata": {},
   "outputs": [],
   "source": [
    "df2 = pd.DataFrame(s2)"
   ]
  },
  {
   "cell_type": "code",
   "execution_count": 28,
   "metadata": {},
   "outputs": [
    {
     "data": {
      "text/html": [
       "<div>\n",
       "<style scoped>\n",
       "    .dataframe tbody tr th:only-of-type {\n",
       "        vertical-align: middle;\n",
       "    }\n",
       "\n",
       "    .dataframe tbody tr th {\n",
       "        vertical-align: top;\n",
       "    }\n",
       "\n",
       "    .dataframe thead th {\n",
       "        text-align: right;\n",
       "    }\n",
       "</style>\n",
       "<table border=\"1\" class=\"dataframe\">\n",
       "  <thead>\n",
       "    <tr style=\"text-align: right;\">\n",
       "      <th></th>\n",
       "      <th>S001</th>\n",
       "      <th>S002</th>\n",
       "    </tr>\n",
       "  </thead>\n",
       "  <tbody>\n",
       "    <tr>\n",
       "      <th>2020-07-01</th>\n",
       "      <td>20.1</td>\n",
       "      <td>NaN</td>\n",
       "    </tr>\n",
       "    <tr>\n",
       "      <th>2020-07-02</th>\n",
       "      <td>21.2</td>\n",
       "      <td>20.1</td>\n",
       "    </tr>\n",
       "    <tr>\n",
       "      <th>2020-07-03</th>\n",
       "      <td>23.4</td>\n",
       "      <td>21.2</td>\n",
       "    </tr>\n",
       "    <tr>\n",
       "      <th>2020-07-04</th>\n",
       "      <td>24.1</td>\n",
       "      <td>50.0</td>\n",
       "    </tr>\n",
       "    <tr>\n",
       "      <th>2020-07-05</th>\n",
       "      <td>25.0</td>\n",
       "      <td>24.1</td>\n",
       "    </tr>\n",
       "    <tr>\n",
       "      <th>2020-07-06</th>\n",
       "      <td>24.5</td>\n",
       "      <td>25.0</td>\n",
       "    </tr>\n",
       "    <tr>\n",
       "      <th>2020-07-07</th>\n",
       "      <td>NaN</td>\n",
       "      <td>24.5</td>\n",
       "    </tr>\n",
       "  </tbody>\n",
       "</table>\n",
       "</div>"
      ],
      "text/plain": [
       "            S001  S002\n",
       "2020-07-01  20.1   NaN\n",
       "2020-07-02  21.2  20.1\n",
       "2020-07-03  23.4  21.2\n",
       "2020-07-04  24.1  50.0\n",
       "2020-07-05  25.0  24.1\n",
       "2020-07-06  24.5  25.0\n",
       "2020-07-07   NaN  24.5"
      ]
     },
     "execution_count": 28,
     "metadata": {},
     "output_type": "execute_result"
    }
   ],
   "source": [
    "# axis = 1: concatenation with row index alignment.\n",
    "df = pd.concat([df1,df2],axis = 1)\n",
    "df"
   ]
  },
  {
   "cell_type": "markdown",
   "metadata": {},
   "source": [
    "### From a dict of series"
   ]
  },
  {
   "cell_type": "code",
   "execution_count": 29,
   "metadata": {},
   "outputs": [
    {
     "data": {
      "text/plain": [
       "{'S001': 2020-07-01    20.1\n",
       " 2020-07-02    21.2\n",
       " 2020-07-03    23.4\n",
       " 2020-07-04    24.1\n",
       " 2020-07-05    25.0\n",
       " 2020-07-06    24.5\n",
       " Freq: D, Name: S001, dtype: float64,\n",
       " 'S002': 2020-07-02    20.1\n",
       " 2020-07-03    21.2\n",
       " 2020-07-04    50.0\n",
       " 2020-07-05    24.1\n",
       " 2020-07-06    25.0\n",
       " 2020-07-07    24.5\n",
       " Freq: D, Name: S002, dtype: float64,\n",
       " 'S003': 2020-07-03    21.850047\n",
       " 2020-07-04    20.654171\n",
       " 2020-07-05    22.717380\n",
       " 2020-07-06    23.573947\n",
       " 2020-07-07    25.497480\n",
       " 2020-07-08    23.666144\n",
       " Freq: D, Name: S003, dtype: float64}"
      ]
     },
     "execution_count": 29,
     "metadata": {},
     "output_type": "execute_result"
    }
   ],
   "source": [
    "d = {s1.name: s1,s2.name: s2,s3.name: s3}\n",
    "d"
   ]
  },
  {
   "cell_type": "code",
   "execution_count": 30,
   "metadata": {},
   "outputs": [],
   "source": [
    "df = pd.DataFrame(d)"
   ]
  },
  {
   "cell_type": "code",
   "execution_count": 31,
   "metadata": {},
   "outputs": [
    {
     "data": {
      "text/html": [
       "<div>\n",
       "<style scoped>\n",
       "    .dataframe tbody tr th:only-of-type {\n",
       "        vertical-align: middle;\n",
       "    }\n",
       "\n",
       "    .dataframe tbody tr th {\n",
       "        vertical-align: top;\n",
       "    }\n",
       "\n",
       "    .dataframe thead th {\n",
       "        text-align: right;\n",
       "    }\n",
       "</style>\n",
       "<table border=\"1\" class=\"dataframe\">\n",
       "  <thead>\n",
       "    <tr style=\"text-align: right;\">\n",
       "      <th></th>\n",
       "      <th>S001</th>\n",
       "      <th>S002</th>\n",
       "      <th>S003</th>\n",
       "    </tr>\n",
       "  </thead>\n",
       "  <tbody>\n",
       "    <tr>\n",
       "      <th>2020-07-01</th>\n",
       "      <td>20.1</td>\n",
       "      <td>NaN</td>\n",
       "      <td>NaN</td>\n",
       "    </tr>\n",
       "    <tr>\n",
       "      <th>2020-07-02</th>\n",
       "      <td>21.2</td>\n",
       "      <td>20.1</td>\n",
       "      <td>NaN</td>\n",
       "    </tr>\n",
       "    <tr>\n",
       "      <th>2020-07-03</th>\n",
       "      <td>23.4</td>\n",
       "      <td>21.2</td>\n",
       "      <td>21.850047</td>\n",
       "    </tr>\n",
       "    <tr>\n",
       "      <th>2020-07-04</th>\n",
       "      <td>24.1</td>\n",
       "      <td>50.0</td>\n",
       "      <td>20.654171</td>\n",
       "    </tr>\n",
       "    <tr>\n",
       "      <th>2020-07-05</th>\n",
       "      <td>25.0</td>\n",
       "      <td>24.1</td>\n",
       "      <td>22.717380</td>\n",
       "    </tr>\n",
       "    <tr>\n",
       "      <th>2020-07-06</th>\n",
       "      <td>24.5</td>\n",
       "      <td>25.0</td>\n",
       "      <td>23.573947</td>\n",
       "    </tr>\n",
       "    <tr>\n",
       "      <th>2020-07-07</th>\n",
       "      <td>NaN</td>\n",
       "      <td>24.5</td>\n",
       "      <td>25.497480</td>\n",
       "    </tr>\n",
       "    <tr>\n",
       "      <th>2020-07-08</th>\n",
       "      <td>NaN</td>\n",
       "      <td>NaN</td>\n",
       "      <td>23.666144</td>\n",
       "    </tr>\n",
       "  </tbody>\n",
       "</table>\n",
       "</div>"
      ],
      "text/plain": [
       "            S001  S002       S003\n",
       "2020-07-01  20.1   NaN        NaN\n",
       "2020-07-02  21.2  20.1        NaN\n",
       "2020-07-03  23.4  21.2  21.850047\n",
       "2020-07-04  24.1  50.0  20.654171\n",
       "2020-07-05  25.0  24.1  22.717380\n",
       "2020-07-06  24.5  25.0  23.573947\n",
       "2020-07-07   NaN  24.5  25.497480\n",
       "2020-07-08   NaN   NaN  23.666144"
      ]
     },
     "execution_count": 31,
     "metadata": {},
     "output_type": "execute_result"
    }
   ],
   "source": [
    "df"
   ]
  },
  {
   "cell_type": "code",
   "execution_count": 32,
   "metadata": {},
   "outputs": [],
   "source": [
    "import matplotlib as mpl\n",
    "import matplotlib.pyplot as plt"
   ]
  },
  {
   "cell_type": "code",
   "execution_count": 33,
   "metadata": {},
   "outputs": [
    {
     "data": {
      "image/png": "[encoded data removed]",
      "text/plain": [
       "<Figure size 816x544 with 1 Axes>"
      ]
     },
     "metadata": {
      "needs_background": "light"
     },
     "output_type": "display_data"
    }
   ],
   "source": [
    "fig1, ax1 = plt.subplots(1,1,dpi = 136, figsize=(6,4))\n",
    "df.plot(ax = ax1, style=\"-*\")\n",
    "ax1.set_xlabel(\"Time / days\")\n",
    "ax1.set_ylabel(\"Temperature / °C\")\n",
    "ax1.grid(True)\n",
    "plt.show()"
   ]
  },
  {
   "cell_type": "markdown",
   "metadata": {},
   "source": [
    "## Relations"
   ]
  },
  {
   "cell_type": "code",
   "execution_count": 34,
   "metadata": {},
   "outputs": [
    {
     "data": {
      "text/html": [
       "<div>\n",
       "<style scoped>\n",
       "    .dataframe tbody tr th:only-of-type {\n",
       "        vertical-align: middle;\n",
       "    }\n",
       "\n",
       "    .dataframe tbody tr th {\n",
       "        vertical-align: top;\n",
       "    }\n",
       "\n",
       "    .dataframe thead th {\n",
       "        text-align: right;\n",
       "    }\n",
       "</style>\n",
       "<table border=\"1\" class=\"dataframe\">\n",
       "  <thead>\n",
       "    <tr style=\"text-align: right;\">\n",
       "      <th></th>\n",
       "      <th>S001</th>\n",
       "      <th>S002</th>\n",
       "      <th>S003</th>\n",
       "    </tr>\n",
       "  </thead>\n",
       "  <tbody>\n",
       "    <tr>\n",
       "      <th>2020-07-01</th>\n",
       "      <td>20.1</td>\n",
       "      <td>NaN</td>\n",
       "      <td>NaN</td>\n",
       "    </tr>\n",
       "    <tr>\n",
       "      <th>2020-07-02</th>\n",
       "      <td>21.2</td>\n",
       "      <td>20.1</td>\n",
       "      <td>NaN</td>\n",
       "    </tr>\n",
       "    <tr>\n",
       "      <th>2020-07-03</th>\n",
       "      <td>23.4</td>\n",
       "      <td>21.2</td>\n",
       "      <td>21.850047</td>\n",
       "    </tr>\n",
       "    <tr>\n",
       "      <th>2020-07-04</th>\n",
       "      <td>24.1</td>\n",
       "      <td>50.0</td>\n",
       "      <td>20.654171</td>\n",
       "    </tr>\n",
       "    <tr>\n",
       "      <th>2020-07-05</th>\n",
       "      <td>25.0</td>\n",
       "      <td>24.1</td>\n",
       "      <td>22.717380</td>\n",
       "    </tr>\n",
       "    <tr>\n",
       "      <th>2020-07-06</th>\n",
       "      <td>24.5</td>\n",
       "      <td>25.0</td>\n",
       "      <td>23.573947</td>\n",
       "    </tr>\n",
       "    <tr>\n",
       "      <th>2020-07-07</th>\n",
       "      <td>NaN</td>\n",
       "      <td>24.5</td>\n",
       "      <td>25.497480</td>\n",
       "    </tr>\n",
       "    <tr>\n",
       "      <th>2020-07-08</th>\n",
       "      <td>NaN</td>\n",
       "      <td>NaN</td>\n",
       "      <td>23.666144</td>\n",
       "    </tr>\n",
       "  </tbody>\n",
       "</table>\n",
       "</div>"
      ],
      "text/plain": [
       "            S001  S002       S003\n",
       "2020-07-01  20.1   NaN        NaN\n",
       "2020-07-02  21.2  20.1        NaN\n",
       "2020-07-03  23.4  21.2  21.850047\n",
       "2020-07-04  24.1  50.0  20.654171\n",
       "2020-07-05  25.0  24.1  22.717380\n",
       "2020-07-06  24.5  25.0  23.573947\n",
       "2020-07-07   NaN  24.5  25.497480\n",
       "2020-07-08   NaN   NaN  23.666144"
      ]
     },
     "execution_count": 34,
     "metadata": {},
     "output_type": "execute_result"
    }
   ],
   "source": [
    "temp_df = df\n",
    "temp_df"
   ]
  },
  {
   "cell_type": "code",
   "execution_count": 35,
   "metadata": {},
   "outputs": [
    {
     "data": {
      "text/plain": [
       "{'ID': 13670, 'name': 'Duisburg-Baerl', 'lat': 51.5088, 'lon': 6.7018}"
      ]
     },
     "execution_count": 35,
     "metadata": {},
     "output_type": "execute_result"
    }
   ],
   "source": [
    "st1 = {\"ID\" : 13670, \"name\": \"Duisburg-Baerl\", \"lat\": 51.5088, \"lon\": 6.7018}\n",
    "st1"
   ]
  },
  {
   "cell_type": "markdown",
   "metadata": {},
   "source": [
    "CSV File Example with Station Metadata:\n",
    "\n",
    "```\n",
    "ID; date_from; date_to; lat; lon; name; state\n",
    "13670;2008-01-01;2019-12-31;24;51.5088;6.7018;Duisburg-Baerl;Nordrhein-Westfalen\n",
    "1590;1937-01-01;2019-12-31;37;51.4942;6.2463;Geldern-Walbeck;Nordrhein-Westfalen\n",
    "2629;1851-01-01;2016-12-31;46;51.7612;6.0954;Kleve;Nordrhein-Westfalen\n",
    "2494;2001-01-01;2008-12-31;31;51.7329;6.2688;Kalkar;Nordrhein-Westfalen\n",
    "```"
   ]
  },
  {
   "cell_type": "code",
   "execution_count": 36,
   "metadata": {},
   "outputs": [],
   "source": [
    "txt = '''ID; date_from; date_to; lat; lon; name; state\n",
    "13670;2008-01-01;2019-12-31;24;51.5088;6.7018;Duisburg-Baerl;Nordrhein-Westfalen\n",
    "1590;1937-01-01;2019-12-31;37;51.4942;6.2463;Geldern-Walbeck;Nordrhein-Westfalen\n",
    "2629;1851-01-01;2016-12-31;46;51.7612;6.0954;Kleve;Nordrhein-Westfalen\n",
    "2494;2001-01-01;2008-12-31;31;51.7329;6.2688;Kalkar;Nordrhein-Westfalen\n",
    "'''"
   ]
  },
  {
   "cell_type": "code",
   "execution_count": 37,
   "metadata": {},
   "outputs": [],
   "source": [
    "f = open(\"data/stations_short.csv\", \"w\")\n",
    "f.write(txt)\n",
    "f.close()"
   ]
  },
  {
   "cell_type": "code",
   "execution_count": null,
   "metadata": {},
   "outputs": [],
   "source": []
  }
 ],
 "metadata": {
  "kernelspec": {
   "display_name": "Python 3",
   "language": "python",
   "name": "python3"
  },
  "language_info": {
   "codemirror_mode": {
    "name": "ipython",
    "version": 3
   },
   "file_extension": ".py",
   "mimetype": "text/x-python",
   "name": "python",
   "nbconvert_exporter": "python",
   "pygments_lexer": "ipython3",
   "version": "3.8.3"
  }
 },
 "nbformat": 4,
 "nbformat_minor": 4
}
